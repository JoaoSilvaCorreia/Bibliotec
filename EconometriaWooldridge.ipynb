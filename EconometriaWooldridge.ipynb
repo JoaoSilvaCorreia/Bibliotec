{
  "cells": [
    {
      "cell_type": "markdown",
      "source": [
        "# **Introdução à Econometria (Jeffrey Wooldridge) utilizando o Python**\n",
        "\n",
        "### Autor: João Vitor da Silva Correia\n",
        "### Data: 24/09/2024"
      ],
      "metadata": {
        "id": "kKu2HwMe-Bbw"
      }
    },
    {
      "cell_type": "markdown",
      "source": [
        "Neste notebook (em construção) estarei resolvendo os exercícios práticos do livro “Introdução à Econometria: Uma Abordagem Moderna” de Jeffrey Wooldridge, utilizando o Python.\n",
        "\n",
        "O livro do Wooldridge é uma grande referência no campo da econometria, oferecendo uma abordagem moderna e acessível. Ele abrange desde os fundamentos estatísticos até as técnicas mais tradicionais de econometria, sempre com exemplos práticos que facilitam a aplicação dos conceitos em dados reais, incentivando a análise empírica e o uso de ferramentas para a implementação dos modelos discutidos.\n",
        "\n",
        "\n",
        "\n"
      ],
      "metadata": {
        "id": "hobfj3Yy-zm_"
      }
    },
    {
      "cell_type": "markdown",
      "source": [
        "### Instalação e importação das bibliotecas necessárias"
      ],
      "metadata": {
        "id": "J8TDO1RpGEd2"
      }
    },
    {
      "cell_type": "code",
      "source": [
        "#instalação das bibliotecas\n",
        "!pip install wooldridge\n",
        "!pip install pandasql #biblioteca permite executar consultas sql sobre dataframes utilizando sintaxe sql"
      ],
      "metadata": {
        "id": "bCwNrhDxE2v5"
      },
      "execution_count": null,
      "outputs": []
    },
    {
      "cell_type": "code",
      "source": [
        "\n",
        "import pandas as pd\n",
        "import wooldridge #vamos utilizar uma biblioteca pronta do Livro em python (Data sets from Introductory Econometrics: A Modern Approach (7th ed, J.M. Wooldridge)\n",
        "import pandasql as psql #biblioteca sql no pandas"
      ],
      "metadata": {
        "id": "qtpcZojAEkE1"
      },
      "execution_count": null,
      "outputs": []
    },
    {
      "cell_type": "markdown",
      "source": [
        "## **CAPÍTULO 1**\n",
        "\n",
        "\n",
        "### **1.1 Utilize os dados contidos em WAGE1.RAW para fazer este exercício:**\n"
      ],
      "metadata": {
        "id": "eBFm5HjAAQMi"
      }
    },
    {
      "cell_type": "code",
      "source": [
        "wooldridge.data('wage1', description=True) #para mostrar a descrição do dataset\n",
        "wage1 = wooldridge.data('wage1') #para carregar o dataset desejado\n",
        "wage1.head() #para mostrar as primeiras linhas do dataset"
      ],
      "metadata": {
        "colab": {
          "base_uri": "https://localhost:8080/",
          "height": 863
        },
        "id": "sK0v8ZiNA3Yv",
        "outputId": "dbdbb6db-4b87-47d5-8f4b-986fd152c1aa"
      },
      "execution_count": null,
      "outputs": [
        {
          "output_type": "stream",
          "name": "stdout",
          "text": [
            "name of dataset: wage1\n",
            "no of variables: 24\n",
            "no of observations: 526\n",
            "\n",
            "+----------+---------------------------------+\n",
            "| variable | label                           |\n",
            "+----------+---------------------------------+\n",
            "| wage     | average hourly earnings         |\n",
            "| educ     | years of education              |\n",
            "| exper    | years potential experience      |\n",
            "| tenure   | years with current employer     |\n",
            "| nonwhite | =1 if nonwhite                  |\n",
            "| female   | =1 if female                    |\n",
            "| married  | =1 if married                   |\n",
            "| numdep   | number of dependents            |\n",
            "| smsa     | =1 if live in SMSA              |\n",
            "| northcen | =1 if live in north central U.S |\n",
            "| south    | =1 if live in southern region   |\n",
            "| west     | =1 if live in western region    |\n",
            "| construc | =1 if work in construc. indus.  |\n",
            "| ndurman  | =1 if in nondur. manuf. indus.  |\n",
            "| trcommpu | =1 if in trans, commun, pub ut  |\n",
            "| trade    | =1 if in wholesale or retail    |\n",
            "| services | =1 if in services indus.        |\n",
            "| profserv | =1 if in prof. serv. indus.     |\n",
            "| profocc  | =1 if in profess. occupation    |\n",
            "| clerocc  | =1 if in clerical occupation    |\n",
            "| servocc  | =1 if in service occupation     |\n",
            "| lwage    | log(wage)                       |\n",
            "| expersq  | exper^2                         |\n",
            "| tenursq  | tenure^2                        |\n",
            "+----------+---------------------------------+\n",
            "\n",
            "These are data from the 1976 Current Population Survey, collected by\n",
            "Henry Farber when he and I were colleagues at MIT in 1988.\n"
          ]
        },
        {
          "output_type": "execute_result",
          "data": {
            "text/plain": [
              "   wage  educ  exper  tenure  nonwhite  female  married  numdep  smsa  \\\n",
              "0  3.10    11      2       0         0       1        0       2     1   \n",
              "1  3.24    12     22       2         0       1        1       3     1   \n",
              "2  3.00    11      2       0         0       0        0       2     0   \n",
              "3  6.00     8     44      28         0       0        1       0     1   \n",
              "4  5.30    12      7       2         0       0        1       1     0   \n",
              "\n",
              "   northcen  ...  trcommpu  trade  services  profserv  profocc  clerocc  \\\n",
              "0         0  ...         0      0         0         0        0        0   \n",
              "1         0  ...         0      0         1         0        0        0   \n",
              "2         0  ...         0      1         0         0        0        0   \n",
              "3         0  ...         0      0         0         0        0        1   \n",
              "4         0  ...         0      0         0         0        0        0   \n",
              "\n",
              "   servocc     lwage  expersq  tenursq  \n",
              "0        0  1.131402        4        0  \n",
              "1        1  1.175573      484        4  \n",
              "2        0  1.098612        4        0  \n",
              "3        0  1.791759     1936      784  \n",
              "4        0  1.667707       49        4  \n",
              "\n",
              "[5 rows x 24 columns]"
            ],
            "text/html": [
              "\n",
              "  <div id=\"df-eab855b3-e0ed-4503-8c23-d11b474df9d4\" class=\"colab-df-container\">\n",
              "    <div>\n",
              "<style scoped>\n",
              "    .dataframe tbody tr th:only-of-type {\n",
              "        vertical-align: middle;\n",
              "    }\n",
              "\n",
              "    .dataframe tbody tr th {\n",
              "        vertical-align: top;\n",
              "    }\n",
              "\n",
              "    .dataframe thead th {\n",
              "        text-align: right;\n",
              "    }\n",
              "</style>\n",
              "<table border=\"1\" class=\"dataframe\">\n",
              "  <thead>\n",
              "    <tr style=\"text-align: right;\">\n",
              "      <th></th>\n",
              "      <th>wage</th>\n",
              "      <th>educ</th>\n",
              "      <th>exper</th>\n",
              "      <th>tenure</th>\n",
              "      <th>nonwhite</th>\n",
              "      <th>female</th>\n",
              "      <th>married</th>\n",
              "      <th>numdep</th>\n",
              "      <th>smsa</th>\n",
              "      <th>northcen</th>\n",
              "      <th>...</th>\n",
              "      <th>trcommpu</th>\n",
              "      <th>trade</th>\n",
              "      <th>services</th>\n",
              "      <th>profserv</th>\n",
              "      <th>profocc</th>\n",
              "      <th>clerocc</th>\n",
              "      <th>servocc</th>\n",
              "      <th>lwage</th>\n",
              "      <th>expersq</th>\n",
              "      <th>tenursq</th>\n",
              "    </tr>\n",
              "  </thead>\n",
              "  <tbody>\n",
              "    <tr>\n",
              "      <th>0</th>\n",
              "      <td>3.10</td>\n",
              "      <td>11</td>\n",
              "      <td>2</td>\n",
              "      <td>0</td>\n",
              "      <td>0</td>\n",
              "      <td>1</td>\n",
              "      <td>0</td>\n",
              "      <td>2</td>\n",
              "      <td>1</td>\n",
              "      <td>0</td>\n",
              "      <td>...</td>\n",
              "      <td>0</td>\n",
              "      <td>0</td>\n",
              "      <td>0</td>\n",
              "      <td>0</td>\n",
              "      <td>0</td>\n",
              "      <td>0</td>\n",
              "      <td>0</td>\n",
              "      <td>1.131402</td>\n",
              "      <td>4</td>\n",
              "      <td>0</td>\n",
              "    </tr>\n",
              "    <tr>\n",
              "      <th>1</th>\n",
              "      <td>3.24</td>\n",
              "      <td>12</td>\n",
              "      <td>22</td>\n",
              "      <td>2</td>\n",
              "      <td>0</td>\n",
              "      <td>1</td>\n",
              "      <td>1</td>\n",
              "      <td>3</td>\n",
              "      <td>1</td>\n",
              "      <td>0</td>\n",
              "      <td>...</td>\n",
              "      <td>0</td>\n",
              "      <td>0</td>\n",
              "      <td>1</td>\n",
              "      <td>0</td>\n",
              "      <td>0</td>\n",
              "      <td>0</td>\n",
              "      <td>1</td>\n",
              "      <td>1.175573</td>\n",
              "      <td>484</td>\n",
              "      <td>4</td>\n",
              "    </tr>\n",
              "    <tr>\n",
              "      <th>2</th>\n",
              "      <td>3.00</td>\n",
              "      <td>11</td>\n",
              "      <td>2</td>\n",
              "      <td>0</td>\n",
              "      <td>0</td>\n",
              "      <td>0</td>\n",
              "      <td>0</td>\n",
              "      <td>2</td>\n",
              "      <td>0</td>\n",
              "      <td>0</td>\n",
              "      <td>...</td>\n",
              "      <td>0</td>\n",
              "      <td>1</td>\n",
              "      <td>0</td>\n",
              "      <td>0</td>\n",
              "      <td>0</td>\n",
              "      <td>0</td>\n",
              "      <td>0</td>\n",
              "      <td>1.098612</td>\n",
              "      <td>4</td>\n",
              "      <td>0</td>\n",
              "    </tr>\n",
              "    <tr>\n",
              "      <th>3</th>\n",
              "      <td>6.00</td>\n",
              "      <td>8</td>\n",
              "      <td>44</td>\n",
              "      <td>28</td>\n",
              "      <td>0</td>\n",
              "      <td>0</td>\n",
              "      <td>1</td>\n",
              "      <td>0</td>\n",
              "      <td>1</td>\n",
              "      <td>0</td>\n",
              "      <td>...</td>\n",
              "      <td>0</td>\n",
              "      <td>0</td>\n",
              "      <td>0</td>\n",
              "      <td>0</td>\n",
              "      <td>0</td>\n",
              "      <td>1</td>\n",
              "      <td>0</td>\n",
              "      <td>1.791759</td>\n",
              "      <td>1936</td>\n",
              "      <td>784</td>\n",
              "    </tr>\n",
              "    <tr>\n",
              "      <th>4</th>\n",
              "      <td>5.30</td>\n",
              "      <td>12</td>\n",
              "      <td>7</td>\n",
              "      <td>2</td>\n",
              "      <td>0</td>\n",
              "      <td>0</td>\n",
              "      <td>1</td>\n",
              "      <td>1</td>\n",
              "      <td>0</td>\n",
              "      <td>0</td>\n",
              "      <td>...</td>\n",
              "      <td>0</td>\n",
              "      <td>0</td>\n",
              "      <td>0</td>\n",
              "      <td>0</td>\n",
              "      <td>0</td>\n",
              "      <td>0</td>\n",
              "      <td>0</td>\n",
              "      <td>1.667707</td>\n",
              "      <td>49</td>\n",
              "      <td>4</td>\n",
              "    </tr>\n",
              "  </tbody>\n",
              "</table>\n",
              "<p>5 rows × 24 columns</p>\n",
              "</div>\n",
              "    <div class=\"colab-df-buttons\">\n",
              "\n",
              "  <div class=\"colab-df-container\">\n",
              "    <button class=\"colab-df-convert\" onclick=\"convertToInteractive('df-eab855b3-e0ed-4503-8c23-d11b474df9d4')\"\n",
              "            title=\"Convert this dataframe to an interactive table.\"\n",
              "            style=\"display:none;\">\n",
              "\n",
              "  <svg xmlns=\"http://www.w3.org/2000/svg\" height=\"24px\" viewBox=\"0 -960 960 960\">\n",
              "    <path d=\"M120-120v-720h720v720H120Zm60-500h600v-160H180v160Zm220 220h160v-160H400v160Zm0 220h160v-160H400v160ZM180-400h160v-160H180v160Zm440 0h160v-160H620v160ZM180-180h160v-160H180v160Zm440 0h160v-160H620v160Z\"/>\n",
              "  </svg>\n",
              "    </button>\n",
              "\n",
              "  <style>\n",
              "    .colab-df-container {\n",
              "      display:flex;\n",
              "      gap: 12px;\n",
              "    }\n",
              "\n",
              "    .colab-df-convert {\n",
              "      background-color: #E8F0FE;\n",
              "      border: none;\n",
              "      border-radius: 50%;\n",
              "      cursor: pointer;\n",
              "      display: none;\n",
              "      fill: #1967D2;\n",
              "      height: 32px;\n",
              "      padding: 0 0 0 0;\n",
              "      width: 32px;\n",
              "    }\n",
              "\n",
              "    .colab-df-convert:hover {\n",
              "      background-color: #E2EBFA;\n",
              "      box-shadow: 0px 1px 2px rgba(60, 64, 67, 0.3), 0px 1px 3px 1px rgba(60, 64, 67, 0.15);\n",
              "      fill: #174EA6;\n",
              "    }\n",
              "\n",
              "    .colab-df-buttons div {\n",
              "      margin-bottom: 4px;\n",
              "    }\n",
              "\n",
              "    [theme=dark] .colab-df-convert {\n",
              "      background-color: #3B4455;\n",
              "      fill: #D2E3FC;\n",
              "    }\n",
              "\n",
              "    [theme=dark] .colab-df-convert:hover {\n",
              "      background-color: #434B5C;\n",
              "      box-shadow: 0px 1px 3px 1px rgba(0, 0, 0, 0.15);\n",
              "      filter: drop-shadow(0px 1px 2px rgba(0, 0, 0, 0.3));\n",
              "      fill: #FFFFFF;\n",
              "    }\n",
              "  </style>\n",
              "\n",
              "    <script>\n",
              "      const buttonEl =\n",
              "        document.querySelector('#df-eab855b3-e0ed-4503-8c23-d11b474df9d4 button.colab-df-convert');\n",
              "      buttonEl.style.display =\n",
              "        google.colab.kernel.accessAllowed ? 'block' : 'none';\n",
              "\n",
              "      async function convertToInteractive(key) {\n",
              "        const element = document.querySelector('#df-eab855b3-e0ed-4503-8c23-d11b474df9d4');\n",
              "        const dataTable =\n",
              "          await google.colab.kernel.invokeFunction('convertToInteractive',\n",
              "                                                    [key], {});\n",
              "        if (!dataTable) return;\n",
              "\n",
              "        const docLinkHtml = 'Like what you see? Visit the ' +\n",
              "          '<a target=\"_blank\" href=https://colab.research.google.com/notebooks/data_table.ipynb>data table notebook</a>'\n",
              "          + ' to learn more about interactive tables.';\n",
              "        element.innerHTML = '';\n",
              "        dataTable['output_type'] = 'display_data';\n",
              "        await google.colab.output.renderOutput(dataTable, element);\n",
              "        const docLink = document.createElement('div');\n",
              "        docLink.innerHTML = docLinkHtml;\n",
              "        element.appendChild(docLink);\n",
              "      }\n",
              "    </script>\n",
              "  </div>\n",
              "\n",
              "\n",
              "<div id=\"df-5368cb49-a79f-4ab4-85e6-5b124d59fc79\">\n",
              "  <button class=\"colab-df-quickchart\" onclick=\"quickchart('df-5368cb49-a79f-4ab4-85e6-5b124d59fc79')\"\n",
              "            title=\"Suggest charts\"\n",
              "            style=\"display:none;\">\n",
              "\n",
              "<svg xmlns=\"http://www.w3.org/2000/svg\" height=\"24px\"viewBox=\"0 0 24 24\"\n",
              "     width=\"24px\">\n",
              "    <g>\n",
              "        <path d=\"M19 3H5c-1.1 0-2 .9-2 2v14c0 1.1.9 2 2 2h14c1.1 0 2-.9 2-2V5c0-1.1-.9-2-2-2zM9 17H7v-7h2v7zm4 0h-2V7h2v10zm4 0h-2v-4h2v4z\"/>\n",
              "    </g>\n",
              "</svg>\n",
              "  </button>\n",
              "\n",
              "<style>\n",
              "  .colab-df-quickchart {\n",
              "      --bg-color: #E8F0FE;\n",
              "      --fill-color: #1967D2;\n",
              "      --hover-bg-color: #E2EBFA;\n",
              "      --hover-fill-color: #174EA6;\n",
              "      --disabled-fill-color: #AAA;\n",
              "      --disabled-bg-color: #DDD;\n",
              "  }\n",
              "\n",
              "  [theme=dark] .colab-df-quickchart {\n",
              "      --bg-color: #3B4455;\n",
              "      --fill-color: #D2E3FC;\n",
              "      --hover-bg-color: #434B5C;\n",
              "      --hover-fill-color: #FFFFFF;\n",
              "      --disabled-bg-color: #3B4455;\n",
              "      --disabled-fill-color: #666;\n",
              "  }\n",
              "\n",
              "  .colab-df-quickchart {\n",
              "    background-color: var(--bg-color);\n",
              "    border: none;\n",
              "    border-radius: 50%;\n",
              "    cursor: pointer;\n",
              "    display: none;\n",
              "    fill: var(--fill-color);\n",
              "    height: 32px;\n",
              "    padding: 0;\n",
              "    width: 32px;\n",
              "  }\n",
              "\n",
              "  .colab-df-quickchart:hover {\n",
              "    background-color: var(--hover-bg-color);\n",
              "    box-shadow: 0 1px 2px rgba(60, 64, 67, 0.3), 0 1px 3px 1px rgba(60, 64, 67, 0.15);\n",
              "    fill: var(--button-hover-fill-color);\n",
              "  }\n",
              "\n",
              "  .colab-df-quickchart-complete:disabled,\n",
              "  .colab-df-quickchart-complete:disabled:hover {\n",
              "    background-color: var(--disabled-bg-color);\n",
              "    fill: var(--disabled-fill-color);\n",
              "    box-shadow: none;\n",
              "  }\n",
              "\n",
              "  .colab-df-spinner {\n",
              "    border: 2px solid var(--fill-color);\n",
              "    border-color: transparent;\n",
              "    border-bottom-color: var(--fill-color);\n",
              "    animation:\n",
              "      spin 1s steps(1) infinite;\n",
              "  }\n",
              "\n",
              "  @keyframes spin {\n",
              "    0% {\n",
              "      border-color: transparent;\n",
              "      border-bottom-color: var(--fill-color);\n",
              "      border-left-color: var(--fill-color);\n",
              "    }\n",
              "    20% {\n",
              "      border-color: transparent;\n",
              "      border-left-color: var(--fill-color);\n",
              "      border-top-color: var(--fill-color);\n",
              "    }\n",
              "    30% {\n",
              "      border-color: transparent;\n",
              "      border-left-color: var(--fill-color);\n",
              "      border-top-color: var(--fill-color);\n",
              "      border-right-color: var(--fill-color);\n",
              "    }\n",
              "    40% {\n",
              "      border-color: transparent;\n",
              "      border-right-color: var(--fill-color);\n",
              "      border-top-color: var(--fill-color);\n",
              "    }\n",
              "    60% {\n",
              "      border-color: transparent;\n",
              "      border-right-color: var(--fill-color);\n",
              "    }\n",
              "    80% {\n",
              "      border-color: transparent;\n",
              "      border-right-color: var(--fill-color);\n",
              "      border-bottom-color: var(--fill-color);\n",
              "    }\n",
              "    90% {\n",
              "      border-color: transparent;\n",
              "      border-bottom-color: var(--fill-color);\n",
              "    }\n",
              "  }\n",
              "</style>\n",
              "\n",
              "  <script>\n",
              "    async function quickchart(key) {\n",
              "      const quickchartButtonEl =\n",
              "        document.querySelector('#' + key + ' button');\n",
              "      quickchartButtonEl.disabled = true;  // To prevent multiple clicks.\n",
              "      quickchartButtonEl.classList.add('colab-df-spinner');\n",
              "      try {\n",
              "        const charts = await google.colab.kernel.invokeFunction(\n",
              "            'suggestCharts', [key], {});\n",
              "      } catch (error) {\n",
              "        console.error('Error during call to suggestCharts:', error);\n",
              "      }\n",
              "      quickchartButtonEl.classList.remove('colab-df-spinner');\n",
              "      quickchartButtonEl.classList.add('colab-df-quickchart-complete');\n",
              "    }\n",
              "    (() => {\n",
              "      let quickchartButtonEl =\n",
              "        document.querySelector('#df-5368cb49-a79f-4ab4-85e6-5b124d59fc79 button');\n",
              "      quickchartButtonEl.style.display =\n",
              "        google.colab.kernel.accessAllowed ? 'block' : 'none';\n",
              "    })();\n",
              "  </script>\n",
              "</div>\n",
              "\n",
              "    </div>\n",
              "  </div>\n"
            ],
            "application/vnd.google.colaboratory.intrinsic+json": {
              "type": "dataframe",
              "variable_name": "wage1"
            }
          },
          "metadata": {},
          "execution_count": 4
        }
      ]
    },
    {
      "cell_type": "markdown",
      "source": [
        "\n",
        "\n",
        "### **( i ) Encontre o nível médio de escolaridade na amostra. Quais são o maior e o menor número de anos de educação formal?**"
      ],
      "metadata": {
        "id": "67zmbSGmGfb6"
      }
    },
    {
      "cell_type": "code",
      "source": [
        "print(\"Média:\", round(wage1.educ.mean(),2))\n",
        "print(\"Maior valor:\", wage1.educ.min())\n",
        "print(\"Menor valor:\", wage1.educ.max())"
      ],
      "metadata": {
        "colab": {
          "base_uri": "https://localhost:8080/"
        },
        "id": "Uuwi3tniGeAl",
        "outputId": "e7ffa759-6e5b-498e-d32d-749b6bbf13a6"
      },
      "execution_count": null,
      "outputs": [
        {
          "output_type": "stream",
          "name": "stdout",
          "text": [
            "Média: 12.56\n",
            "Maior valor: 0\n",
            "Menor valor: 18\n"
          ]
        }
      ]
    },
    {
      "cell_type": "markdown",
      "source": [
        "*R: O nível médio de escolaridade da amostra é 13 anos. 18 e 0 são os extremos.*"
      ],
      "metadata": {
        "id": "uEIfymFLLWp2"
      }
    },
    {
      "cell_type": "markdown",
      "source": [
        "### **( ii ) Encontre o salário médio por hora na amostra. Ele parece ser alto ou baixo?**"
      ],
      "metadata": {
        "id": "XD0RjM4vG6Kg"
      }
    },
    {
      "cell_type": "code",
      "source": [
        "print(\"Média:\", round(wage1.wage.mean(),2))"
      ],
      "metadata": {
        "colab": {
          "base_uri": "https://localhost:8080/"
        },
        "id": "2N-J-nQfG-tw",
        "outputId": "85428e00-44e7-477b-b9af-fee73cd5dd78"
      },
      "execution_count": null,
      "outputs": [
        {
          "output_type": "stream",
          "name": "stdout",
          "text": [
            "Média: 5.9\n"
          ]
        }
      ]
    },
    {
      "cell_type": "markdown",
      "source": [
        "*R: O salário médio por hora é de US$ 5.90, e parece ser baixo para os patamares atuais. Lembrando que o salário está em doláres de 1976.*\n",
        "\n",
        "\n",
        "\n",
        "\n",
        "\n"
      ],
      "metadata": {
        "id": "4JaCiVyaLuts"
      }
    },
    {
      "cell_type": "markdown",
      "source": [
        "###**( iii ) Os dados sobre salários estão relatados em dólares de 1976. Usando o Economic Report of the President (de 2004 ou posterior) obtenha e relate o Índice de Preços ao Consumidor (IPC) para os anos de 1976 e 2003.**"
      ],
      "metadata": {
        "id": "_XBJzB8HL023"
      }
    },
    {
      "cell_type": "markdown",
      "source": [
        "Colete os dados do CPI (Consumer Price Index) dos Estados Unidos para os anos de 1976, 2003 e 2024 através desse link: [Consumer Price Index, 1913](https://www.minneapolisfed.org/about-us/monetary-policy/inflation-calculator/consumer-price-index-1913-)"
      ],
      "metadata": {
        "id": "PxQNfJ7AM9ph"
      }
    },
    {
      "cell_type": "markdown",
      "source": [
        "### **( iv ) Use os valores do IPC da parte (iii) para encontrar a média de salário médio em dólares de 2003. E agora, o salário médio por hora parece razoável?**"
      ],
      "metadata": {
        "id": "Vr75GPtaL2_L"
      }
    },
    {
      "cell_type": "code",
      "source": [
        "cpi1976 = 56.9\n",
        "\n",
        "cpi2003 = 184.0\n",
        "\n",
        "cpi2024 = 314.4\n",
        "\n",
        "wage2003 = (wage1.wage.mean())*(cpi2003/cpi1976)#deflacionamento de 1976 para 2003\n",
        "wage2024 = (wage1.wage.mean())*(cpi2024/cpi1976)#deflacionamento de 1976 para 2024\n",
        "\n",
        "print(round(wage1.wage.mean(),2)) #1976\n",
        "print(wage2003.round(2))#2003\n",
        "print(wage2024.round(2))#2024"
      ],
      "metadata": {
        "colab": {
          "base_uri": "https://localhost:8080/"
        },
        "id": "CrYlL1zjNi5R",
        "outputId": "1154e32a-33af-4ba4-cd97-540dfceca4f1"
      },
      "execution_count": null,
      "outputs": [
        {
          "output_type": "stream",
          "name": "stdout",
          "text": [
            "5.9\n",
            "19.07\n",
            "32.58\n"
          ]
        }
      ]
    },
    {
      "cell_type": "markdown",
      "source": [
        "*R: Agora os valores dos salários médios estão mais condizentes com os respectivos anos 1976 (US\\$ 5.90), 2003 (US\\$ 19.07) e 2024 (US\\$ 32.58)*\n",
        "\n"
      ],
      "metadata": {
        "id": "uZ83bQJ2PPMW"
      }
    },
    {
      "cell_type": "markdown",
      "source": [
        "### **( v ) Quantas mulheres estão na amostra? Quantos homens?**"
      ],
      "metadata": {
        "id": "08bQBo3AL3b7"
      }
    },
    {
      "cell_type": "code",
      "source": [
        "\n",
        "print(wage1.female.value_counts()[0], \"Homens\")\n",
        "print(wage1.female.value_counts()[1], \"Mulheres\")"
      ],
      "metadata": {
        "colab": {
          "base_uri": "https://localhost:8080/"
        },
        "id": "jgzsdyANPndT",
        "outputId": "2255ab0f-abe3-4dea-b1e5-2f80dc0a61aa"
      },
      "execution_count": null,
      "outputs": [
        {
          "output_type": "stream",
          "name": "stdout",
          "text": [
            "274 Homens\n",
            "252 Mulheres\n"
          ]
        }
      ]
    },
    {
      "cell_type": "markdown",
      "source": [
        "### **1.2 Use os dados de BWGHT.RAW para responder a esta pergunta.**"
      ],
      "metadata": {
        "id": "OJSSTGU_QqDl"
      }
    },
    {
      "cell_type": "code",
      "source": [
        "wooldridge.data('bwght', description=True) #para mostrar a descrição do dataset\n",
        "bwght = wooldridge.data('bwght') #para carregar o dataset desejado\n",
        "bwght.head() #para mostrar as primeiras linhas do dataset"
      ],
      "metadata": {
        "colab": {
          "base_uri": "https://localhost:8080/",
          "height": 712
        },
        "id": "9VkH7vORQvKt",
        "outputId": "d379c929-511c-42bf-c4f3-71611a312f28"
      },
      "execution_count": null,
      "outputs": [
        {
          "output_type": "stream",
          "name": "stdout",
          "text": [
            "name of dataset: bwght\n",
            "no of variables: 14\n",
            "no of observations: 1388\n",
            "\n",
            "+----------+--------------------------------+\n",
            "| variable | label                          |\n",
            "+----------+--------------------------------+\n",
            "| faminc   | 1988 family income, $1000s     |\n",
            "| cigtax   | cig. tax in home state, 1988   |\n",
            "| cigprice | cig. price in home state, 1988 |\n",
            "| bwght    | birth weight, ounces           |\n",
            "| fatheduc | father's yrs of educ           |\n",
            "| motheduc | mother's yrs of educ           |\n",
            "| parity   | birth order of child           |\n",
            "| male     | =1 if male child               |\n",
            "| white    | =1 if white                    |\n",
            "| cigs     | cigs smked per day while preg  |\n",
            "| lbwght   | log of bwght                   |\n",
            "| bwghtlbs | birth weight, pounds           |\n",
            "| packs    | packs smked per day while preg |\n",
            "| lfaminc  | log(faminc)                    |\n",
            "+----------+--------------------------------+\n",
            "\n",
            "J. Mullahy (1997), “Instrumental-Variable Estimation of Count Data\n",
            "Models: Applications to Models of Cigarette Smoking Behavior,” Review\n",
            "of Economics and Statistics 79, 596-593. Professor Mullahy kindly\n",
            "provided the data. He obtained them from the 1988 National Health\n",
            "Interview Survey.\n"
          ]
        },
        {
          "output_type": "execute_result",
          "data": {
            "text/plain": [
              "   faminc  cigtax    cigprice  bwght  fatheduc  motheduc  parity  male  white  \\\n",
              "0    13.5    16.5  122.300003    109      12.0      12.0       1     1      1   \n",
              "1     7.5    16.5  122.300003    133       6.0      12.0       2     1      0   \n",
              "2     0.5    16.5  122.300003    129       NaN      12.0       2     0      0   \n",
              "3    15.5    16.5  122.300003    126      12.0      12.0       2     1      0   \n",
              "4    27.5    16.5  122.300003    134      14.0      12.0       2     1      1   \n",
              "\n",
              "   cigs    lbwght  bwghtlbs  packs   lfaminc  \n",
              "0     0  4.691348    6.8125    0.0  2.602690  \n",
              "1     0  4.890349    8.3125    0.0  2.014903  \n",
              "2     0  4.859812    8.0625    0.0 -0.693147  \n",
              "3     0  4.836282    7.8750    0.0  2.740840  \n",
              "4     0  4.897840    8.3750    0.0  3.314186  "
            ],
            "text/html": [
              "\n",
              "  <div id=\"df-b58d8f51-ea13-4df2-a693-a8a6c9bb6705\" class=\"colab-df-container\">\n",
              "    <div>\n",
              "<style scoped>\n",
              "    .dataframe tbody tr th:only-of-type {\n",
              "        vertical-align: middle;\n",
              "    }\n",
              "\n",
              "    .dataframe tbody tr th {\n",
              "        vertical-align: top;\n",
              "    }\n",
              "\n",
              "    .dataframe thead th {\n",
              "        text-align: right;\n",
              "    }\n",
              "</style>\n",
              "<table border=\"1\" class=\"dataframe\">\n",
              "  <thead>\n",
              "    <tr style=\"text-align: right;\">\n",
              "      <th></th>\n",
              "      <th>faminc</th>\n",
              "      <th>cigtax</th>\n",
              "      <th>cigprice</th>\n",
              "      <th>bwght</th>\n",
              "      <th>fatheduc</th>\n",
              "      <th>motheduc</th>\n",
              "      <th>parity</th>\n",
              "      <th>male</th>\n",
              "      <th>white</th>\n",
              "      <th>cigs</th>\n",
              "      <th>lbwght</th>\n",
              "      <th>bwghtlbs</th>\n",
              "      <th>packs</th>\n",
              "      <th>lfaminc</th>\n",
              "    </tr>\n",
              "  </thead>\n",
              "  <tbody>\n",
              "    <tr>\n",
              "      <th>0</th>\n",
              "      <td>13.5</td>\n",
              "      <td>16.5</td>\n",
              "      <td>122.300003</td>\n",
              "      <td>109</td>\n",
              "      <td>12.0</td>\n",
              "      <td>12.0</td>\n",
              "      <td>1</td>\n",
              "      <td>1</td>\n",
              "      <td>1</td>\n",
              "      <td>0</td>\n",
              "      <td>4.691348</td>\n",
              "      <td>6.8125</td>\n",
              "      <td>0.0</td>\n",
              "      <td>2.602690</td>\n",
              "    </tr>\n",
              "    <tr>\n",
              "      <th>1</th>\n",
              "      <td>7.5</td>\n",
              "      <td>16.5</td>\n",
              "      <td>122.300003</td>\n",
              "      <td>133</td>\n",
              "      <td>6.0</td>\n",
              "      <td>12.0</td>\n",
              "      <td>2</td>\n",
              "      <td>1</td>\n",
              "      <td>0</td>\n",
              "      <td>0</td>\n",
              "      <td>4.890349</td>\n",
              "      <td>8.3125</td>\n",
              "      <td>0.0</td>\n",
              "      <td>2.014903</td>\n",
              "    </tr>\n",
              "    <tr>\n",
              "      <th>2</th>\n",
              "      <td>0.5</td>\n",
              "      <td>16.5</td>\n",
              "      <td>122.300003</td>\n",
              "      <td>129</td>\n",
              "      <td>NaN</td>\n",
              "      <td>12.0</td>\n",
              "      <td>2</td>\n",
              "      <td>0</td>\n",
              "      <td>0</td>\n",
              "      <td>0</td>\n",
              "      <td>4.859812</td>\n",
              "      <td>8.0625</td>\n",
              "      <td>0.0</td>\n",
              "      <td>-0.693147</td>\n",
              "    </tr>\n",
              "    <tr>\n",
              "      <th>3</th>\n",
              "      <td>15.5</td>\n",
              "      <td>16.5</td>\n",
              "      <td>122.300003</td>\n",
              "      <td>126</td>\n",
              "      <td>12.0</td>\n",
              "      <td>12.0</td>\n",
              "      <td>2</td>\n",
              "      <td>1</td>\n",
              "      <td>0</td>\n",
              "      <td>0</td>\n",
              "      <td>4.836282</td>\n",
              "      <td>7.8750</td>\n",
              "      <td>0.0</td>\n",
              "      <td>2.740840</td>\n",
              "    </tr>\n",
              "    <tr>\n",
              "      <th>4</th>\n",
              "      <td>27.5</td>\n",
              "      <td>16.5</td>\n",
              "      <td>122.300003</td>\n",
              "      <td>134</td>\n",
              "      <td>14.0</td>\n",
              "      <td>12.0</td>\n",
              "      <td>2</td>\n",
              "      <td>1</td>\n",
              "      <td>1</td>\n",
              "      <td>0</td>\n",
              "      <td>4.897840</td>\n",
              "      <td>8.3750</td>\n",
              "      <td>0.0</td>\n",
              "      <td>3.314186</td>\n",
              "    </tr>\n",
              "  </tbody>\n",
              "</table>\n",
              "</div>\n",
              "    <div class=\"colab-df-buttons\">\n",
              "\n",
              "  <div class=\"colab-df-container\">\n",
              "    <button class=\"colab-df-convert\" onclick=\"convertToInteractive('df-b58d8f51-ea13-4df2-a693-a8a6c9bb6705')\"\n",
              "            title=\"Convert this dataframe to an interactive table.\"\n",
              "            style=\"display:none;\">\n",
              "\n",
              "  <svg xmlns=\"http://www.w3.org/2000/svg\" height=\"24px\" viewBox=\"0 -960 960 960\">\n",
              "    <path d=\"M120-120v-720h720v720H120Zm60-500h600v-160H180v160Zm220 220h160v-160H400v160Zm0 220h160v-160H400v160ZM180-400h160v-160H180v160Zm440 0h160v-160H620v160ZM180-180h160v-160H180v160Zm440 0h160v-160H620v160Z\"/>\n",
              "  </svg>\n",
              "    </button>\n",
              "\n",
              "  <style>\n",
              "    .colab-df-container {\n",
              "      display:flex;\n",
              "      gap: 12px;\n",
              "    }\n",
              "\n",
              "    .colab-df-convert {\n",
              "      background-color: #E8F0FE;\n",
              "      border: none;\n",
              "      border-radius: 50%;\n",
              "      cursor: pointer;\n",
              "      display: none;\n",
              "      fill: #1967D2;\n",
              "      height: 32px;\n",
              "      padding: 0 0 0 0;\n",
              "      width: 32px;\n",
              "    }\n",
              "\n",
              "    .colab-df-convert:hover {\n",
              "      background-color: #E2EBFA;\n",
              "      box-shadow: 0px 1px 2px rgba(60, 64, 67, 0.3), 0px 1px 3px 1px rgba(60, 64, 67, 0.15);\n",
              "      fill: #174EA6;\n",
              "    }\n",
              "\n",
              "    .colab-df-buttons div {\n",
              "      margin-bottom: 4px;\n",
              "    }\n",
              "\n",
              "    [theme=dark] .colab-df-convert {\n",
              "      background-color: #3B4455;\n",
              "      fill: #D2E3FC;\n",
              "    }\n",
              "\n",
              "    [theme=dark] .colab-df-convert:hover {\n",
              "      background-color: #434B5C;\n",
              "      box-shadow: 0px 1px 3px 1px rgba(0, 0, 0, 0.15);\n",
              "      filter: drop-shadow(0px 1px 2px rgba(0, 0, 0, 0.3));\n",
              "      fill: #FFFFFF;\n",
              "    }\n",
              "  </style>\n",
              "\n",
              "    <script>\n",
              "      const buttonEl =\n",
              "        document.querySelector('#df-b58d8f51-ea13-4df2-a693-a8a6c9bb6705 button.colab-df-convert');\n",
              "      buttonEl.style.display =\n",
              "        google.colab.kernel.accessAllowed ? 'block' : 'none';\n",
              "\n",
              "      async function convertToInteractive(key) {\n",
              "        const element = document.querySelector('#df-b58d8f51-ea13-4df2-a693-a8a6c9bb6705');\n",
              "        const dataTable =\n",
              "          await google.colab.kernel.invokeFunction('convertToInteractive',\n",
              "                                                    [key], {});\n",
              "        if (!dataTable) return;\n",
              "\n",
              "        const docLinkHtml = 'Like what you see? Visit the ' +\n",
              "          '<a target=\"_blank\" href=https://colab.research.google.com/notebooks/data_table.ipynb>data table notebook</a>'\n",
              "          + ' to learn more about interactive tables.';\n",
              "        element.innerHTML = '';\n",
              "        dataTable['output_type'] = 'display_data';\n",
              "        await google.colab.output.renderOutput(dataTable, element);\n",
              "        const docLink = document.createElement('div');\n",
              "        docLink.innerHTML = docLinkHtml;\n",
              "        element.appendChild(docLink);\n",
              "      }\n",
              "    </script>\n",
              "  </div>\n",
              "\n",
              "\n",
              "<div id=\"df-2bae1f0d-cf67-461e-ba59-b3a01c31d3b0\">\n",
              "  <button class=\"colab-df-quickchart\" onclick=\"quickchart('df-2bae1f0d-cf67-461e-ba59-b3a01c31d3b0')\"\n",
              "            title=\"Suggest charts\"\n",
              "            style=\"display:none;\">\n",
              "\n",
              "<svg xmlns=\"http://www.w3.org/2000/svg\" height=\"24px\"viewBox=\"0 0 24 24\"\n",
              "     width=\"24px\">\n",
              "    <g>\n",
              "        <path d=\"M19 3H5c-1.1 0-2 .9-2 2v14c0 1.1.9 2 2 2h14c1.1 0 2-.9 2-2V5c0-1.1-.9-2-2-2zM9 17H7v-7h2v7zm4 0h-2V7h2v10zm4 0h-2v-4h2v4z\"/>\n",
              "    </g>\n",
              "</svg>\n",
              "  </button>\n",
              "\n",
              "<style>\n",
              "  .colab-df-quickchart {\n",
              "      --bg-color: #E8F0FE;\n",
              "      --fill-color: #1967D2;\n",
              "      --hover-bg-color: #E2EBFA;\n",
              "      --hover-fill-color: #174EA6;\n",
              "      --disabled-fill-color: #AAA;\n",
              "      --disabled-bg-color: #DDD;\n",
              "  }\n",
              "\n",
              "  [theme=dark] .colab-df-quickchart {\n",
              "      --bg-color: #3B4455;\n",
              "      --fill-color: #D2E3FC;\n",
              "      --hover-bg-color: #434B5C;\n",
              "      --hover-fill-color: #FFFFFF;\n",
              "      --disabled-bg-color: #3B4455;\n",
              "      --disabled-fill-color: #666;\n",
              "  }\n",
              "\n",
              "  .colab-df-quickchart {\n",
              "    background-color: var(--bg-color);\n",
              "    border: none;\n",
              "    border-radius: 50%;\n",
              "    cursor: pointer;\n",
              "    display: none;\n",
              "    fill: var(--fill-color);\n",
              "    height: 32px;\n",
              "    padding: 0;\n",
              "    width: 32px;\n",
              "  }\n",
              "\n",
              "  .colab-df-quickchart:hover {\n",
              "    background-color: var(--hover-bg-color);\n",
              "    box-shadow: 0 1px 2px rgba(60, 64, 67, 0.3), 0 1px 3px 1px rgba(60, 64, 67, 0.15);\n",
              "    fill: var(--button-hover-fill-color);\n",
              "  }\n",
              "\n",
              "  .colab-df-quickchart-complete:disabled,\n",
              "  .colab-df-quickchart-complete:disabled:hover {\n",
              "    background-color: var(--disabled-bg-color);\n",
              "    fill: var(--disabled-fill-color);\n",
              "    box-shadow: none;\n",
              "  }\n",
              "\n",
              "  .colab-df-spinner {\n",
              "    border: 2px solid var(--fill-color);\n",
              "    border-color: transparent;\n",
              "    border-bottom-color: var(--fill-color);\n",
              "    animation:\n",
              "      spin 1s steps(1) infinite;\n",
              "  }\n",
              "\n",
              "  @keyframes spin {\n",
              "    0% {\n",
              "      border-color: transparent;\n",
              "      border-bottom-color: var(--fill-color);\n",
              "      border-left-color: var(--fill-color);\n",
              "    }\n",
              "    20% {\n",
              "      border-color: transparent;\n",
              "      border-left-color: var(--fill-color);\n",
              "      border-top-color: var(--fill-color);\n",
              "    }\n",
              "    30% {\n",
              "      border-color: transparent;\n",
              "      border-left-color: var(--fill-color);\n",
              "      border-top-color: var(--fill-color);\n",
              "      border-right-color: var(--fill-color);\n",
              "    }\n",
              "    40% {\n",
              "      border-color: transparent;\n",
              "      border-right-color: var(--fill-color);\n",
              "      border-top-color: var(--fill-color);\n",
              "    }\n",
              "    60% {\n",
              "      border-color: transparent;\n",
              "      border-right-color: var(--fill-color);\n",
              "    }\n",
              "    80% {\n",
              "      border-color: transparent;\n",
              "      border-right-color: var(--fill-color);\n",
              "      border-bottom-color: var(--fill-color);\n",
              "    }\n",
              "    90% {\n",
              "      border-color: transparent;\n",
              "      border-bottom-color: var(--fill-color);\n",
              "    }\n",
              "  }\n",
              "</style>\n",
              "\n",
              "  <script>\n",
              "    async function quickchart(key) {\n",
              "      const quickchartButtonEl =\n",
              "        document.querySelector('#' + key + ' button');\n",
              "      quickchartButtonEl.disabled = true;  // To prevent multiple clicks.\n",
              "      quickchartButtonEl.classList.add('colab-df-spinner');\n",
              "      try {\n",
              "        const charts = await google.colab.kernel.invokeFunction(\n",
              "            'suggestCharts', [key], {});\n",
              "      } catch (error) {\n",
              "        console.error('Error during call to suggestCharts:', error);\n",
              "      }\n",
              "      quickchartButtonEl.classList.remove('colab-df-spinner');\n",
              "      quickchartButtonEl.classList.add('colab-df-quickchart-complete');\n",
              "    }\n",
              "    (() => {\n",
              "      let quickchartButtonEl =\n",
              "        document.querySelector('#df-2bae1f0d-cf67-461e-ba59-b3a01c31d3b0 button');\n",
              "      quickchartButtonEl.style.display =\n",
              "        google.colab.kernel.accessAllowed ? 'block' : 'none';\n",
              "    })();\n",
              "  </script>\n",
              "</div>\n",
              "\n",
              "    </div>\n",
              "  </div>\n"
            ],
            "application/vnd.google.colaboratory.intrinsic+json": {
              "type": "dataframe",
              "variable_name": "bwght",
              "summary": "{\n  \"name\": \"bwght\",\n  \"rows\": 1388,\n  \"fields\": [\n    {\n      \"column\": \"faminc\",\n      \"properties\": {\n        \"dtype\": \"number\",\n        \"std\": 18.73928463224534,\n        \"min\": 0.5,\n        \"max\": 65.0,\n        \"num_unique_values\": 27,\n        \"samples\": [\n          10.5,\n          32.5,\n          12.5\n        ],\n        \"semantic_type\": \"\",\n        \"description\": \"\"\n      }\n    },\n    {\n      \"column\": \"cigtax\",\n      \"properties\": {\n        \"dtype\": \"number\",\n        \"std\": 7.795597905975083,\n        \"min\": 2.0,\n        \"max\": 38.0,\n        \"num_unique_values\": 28,\n        \"samples\": [\n          12.0,\n          31.0,\n          24.0\n        ],\n        \"semantic_type\": \"\",\n        \"description\": \"\"\n      }\n    },\n    {\n      \"column\": \"cigprice\",\n      \"properties\": {\n        \"dtype\": \"number\",\n        \"std\": 10.244484581921524,\n        \"min\": 103.8000030517578,\n        \"max\": 152.5,\n        \"num_unique_values\": 46,\n        \"samples\": [\n          135.60000610351562,\n          145.60000610351562,\n          139.5\n        ],\n        \"semantic_type\": \"\",\n        \"description\": \"\"\n      }\n    },\n    {\n      \"column\": \"bwght\",\n      \"properties\": {\n        \"dtype\": \"number\",\n        \"std\": 20,\n        \"min\": 23,\n        \"max\": 271,\n        \"num_unique_values\": 116,\n        \"samples\": [\n          137,\n          134,\n          117\n        ],\n        \"semantic_type\": \"\",\n        \"description\": \"\"\n      }\n    },\n    {\n      \"column\": \"fatheduc\",\n      \"properties\": {\n        \"dtype\": \"number\",\n        \"std\": 2.745984682114012,\n        \"min\": 1.0,\n        \"max\": 18.0,\n        \"num_unique_values\": 18,\n        \"samples\": [\n          12.0,\n          6.0,\n          11.0\n        ],\n        \"semantic_type\": \"\",\n        \"description\": \"\"\n      }\n    },\n    {\n      \"column\": \"motheduc\",\n      \"properties\": {\n        \"dtype\": \"number\",\n        \"std\": 2.3767283698410244,\n        \"min\": 2.0,\n        \"max\": 18.0,\n        \"num_unique_values\": 17,\n        \"samples\": [\n          12.0,\n          14.0,\n          15.0\n        ],\n        \"semantic_type\": \"\",\n        \"description\": \"\"\n      }\n    },\n    {\n      \"column\": \"parity\",\n      \"properties\": {\n        \"dtype\": \"number\",\n        \"std\": 0,\n        \"min\": 1,\n        \"max\": 6,\n        \"num_unique_values\": 6,\n        \"samples\": [\n          1,\n          2,\n          4\n        ],\n        \"semantic_type\": \"\",\n        \"description\": \"\"\n      }\n    },\n    {\n      \"column\": \"male\",\n      \"properties\": {\n        \"dtype\": \"number\",\n        \"std\": 0,\n        \"min\": 0,\n        \"max\": 1,\n        \"num_unique_values\": 2,\n        \"samples\": [\n          0,\n          1\n        ],\n        \"semantic_type\": \"\",\n        \"description\": \"\"\n      }\n    },\n    {\n      \"column\": \"white\",\n      \"properties\": {\n        \"dtype\": \"number\",\n        \"std\": 0,\n        \"min\": 0,\n        \"max\": 1,\n        \"num_unique_values\": 2,\n        \"samples\": [\n          0,\n          1\n        ],\n        \"semantic_type\": \"\",\n        \"description\": \"\"\n      }\n    },\n    {\n      \"column\": \"cigs\",\n      \"properties\": {\n        \"dtype\": \"number\",\n        \"std\": 5,\n        \"min\": 0,\n        \"max\": 50,\n        \"num_unique_values\": 18,\n        \"samples\": [\n          0,\n          6\n        ],\n        \"semantic_type\": \"\",\n        \"description\": \"\"\n      }\n    },\n    {\n      \"column\": \"lbwght\",\n      \"properties\": {\n        \"dtype\": \"number\",\n        \"std\": 0.19066221188617574,\n        \"min\": 3.1354942321777344,\n        \"max\": 5.602118968963623,\n        \"num_unique_values\": 116,\n        \"samples\": [\n          4.919981002807617,\n          4.897840023040772\n        ],\n        \"semantic_type\": \"\",\n        \"description\": \"\"\n      }\n    },\n    {\n      \"column\": \"bwghtlbs\",\n      \"properties\": {\n        \"dtype\": \"number\",\n        \"std\": 1.272122771118991,\n        \"min\": 1.4375,\n        \"max\": 16.9375,\n        \"num_unique_values\": 116,\n        \"samples\": [\n          8.5625,\n          8.375\n        ],\n        \"semantic_type\": \"\",\n        \"description\": \"\"\n      }\n    },\n    {\n      \"column\": \"packs\",\n      \"properties\": {\n        \"dtype\": \"number\",\n        \"std\": 0.2986343939889346,\n        \"min\": 0.0,\n        \"max\": 2.5,\n        \"num_unique_values\": 18,\n        \"samples\": [\n          0.0,\n          0.3000000119209289\n        ],\n        \"semantic_type\": \"\",\n        \"description\": \"\"\n      }\n    },\n    {\n      \"column\": \"lfaminc\",\n      \"properties\": {\n        \"dtype\": \"number\",\n        \"std\": 0.9180645210065219,\n        \"min\": -0.6931471824645996,\n        \"max\": 4.174387454986572,\n        \"num_unique_values\": 27,\n        \"samples\": [\n          2.3513753414154053,\n          3.4812400341033936\n        ],\n        \"semantic_type\": \"\",\n        \"description\": \"\"\n      }\n    }\n  ]\n}"
            }
          },
          "metadata": {},
          "execution_count": 7
        }
      ]
    },
    {
      "cell_type": "markdown",
      "source": [
        "### **( i ) Quantas mulheres estão na amostra, e quantas informam terem fumado durante a gravidez?**"
      ],
      "metadata": {
        "id": "tln2njf1afUr"
      }
    },
    {
      "cell_type": "code",
      "source": [
        "#quantidade de mulheres na amostra\n",
        "print(len(bwght)) #outra forma de acessar o primeiro valor da tupla\n",
        "\n",
        "\n",
        "\n",
        "#estou criando uma query --> comando no sql.  A query se chama mulheres_fumantes\n",
        "mulheres_fumantes = \"\"\"SELECT count(*) as cigs\n",
        "            FROM bwght\n",
        "            WHERE cigs > 0 \"\"\"\n",
        "\n",
        "mulheres_fumantes = psql.sqldf(mulheres_fumantes, locals()) #locals permite que o sqldf acesse as variáveis do dataframe dentro do ambiente de execução atual\n",
        "\n",
        "\n",
        "print(mulheres_fumantes.to_string(index=False))  #aqui não imprime o índice da linha do dataframe"
      ],
      "metadata": {
        "colab": {
          "base_uri": "https://localhost:8080/"
        },
        "id": "j8YTdWaPaqK1",
        "outputId": "35e7c09d-9078-422e-e587-a8070f6bbf8c"
      },
      "execution_count": null,
      "outputs": [
        {
          "output_type": "stream",
          "name": "stdout",
          "text": [
            "1388\n",
            " cigs\n",
            "  212\n"
          ]
        }
      ]
    },
    {
      "cell_type": "markdown",
      "source": [
        "*R: A amostra apresenta 1388 mulheres, tendo 212 mulheres que fumaram durante a gravidez.*"
      ],
      "metadata": {
        "id": "nTS0D4Dyi7qX"
      }
    },
    {
      "cell_type": "markdown",
      "source": [
        "### **( ii ) Qual é a média de cigarros fumados por dia? A média é um bom índice da mulher “típica” neste caso? Explique.**\n",
        "\n"
      ],
      "metadata": {
        "id": "YYLAUkjTjM8_"
      }
    },
    {
      "cell_type": "code",
      "source": [
        "round(bwght.cigs.mean())"
      ],
      "metadata": {
        "colab": {
          "base_uri": "https://localhost:8080/"
        },
        "id": "DFmB_DOMjS8-",
        "outputId": "9db785d3-bfd9-440b-b391-3d8cb7eda8e1"
      },
      "execution_count": null,
      "outputs": [
        {
          "output_type": "execute_result",
          "data": {
            "text/plain": [
              "2"
            ]
          },
          "metadata": {},
          "execution_count": 47
        }
      ]
    },
    {
      "cell_type": "markdown",
      "source": [
        "*R: A média é de 2 cigarros por dia. Não é uma boa medida, pois essa média leva em consideração as mulheres que não fumam, essas por sua vez são grande maioria na amostra. Desse modo, o correto é utilizar uma amostra apenas com as mulheres fumantes para calcular a média.*"
      ],
      "metadata": {
        "id": "LfmCA1Bzj7W6"
      }
    },
    {
      "cell_type": "markdown",
      "source": [
        "### **( iii ) Entre as mulheres que fumaram durante a gravidez, qual é a média de cigarros fumados por dia? Como isso se compara com sua resposta da parte ( ii ), e por quê?**"
      ],
      "metadata": {
        "id": "a2nawu5FkDy9"
      }
    },
    {
      "cell_type": "code",
      "source": [
        "print(round(bwght[bwght.cigs > 0].cigs.mean())) #média apenas das mulheres que fumam\n",
        "print(round(bwght.cigs.mean())) #média geral"
      ],
      "metadata": {
        "colab": {
          "base_uri": "https://localhost:8080/"
        },
        "id": "5cNxZ55CkIDs",
        "outputId": "bd17decf-4a54-429f-deda-5f93042a98a8"
      },
      "execution_count": null,
      "outputs": [
        {
          "output_type": "stream",
          "name": "stdout",
          "text": [
            "14\n",
            "2\n"
          ]
        }
      ]
    },
    {
      "cell_type": "markdown",
      "source": [
        "*R: A nova média é 14 cigarros por dia, a média agora faz mas sentido, dado que só temos mulheres fumantes nessa nova amostra.*"
      ],
      "metadata": {
        "id": "9AfgoTaIkphJ"
      }
    },
    {
      "cell_type": "markdown",
      "source": [
        "### **( iv ) Encontre a média de fatheduc na amostra. Por que somente 1.192 observações são usadas para calcular a média?**"
      ],
      "metadata": {
        "id": "KS3b80DuktVF"
      }
    },
    {
      "cell_type": "code",
      "source": [
        "#1º passo é verificar o dataset original\n",
        "bwght.fatheduc"
      ],
      "metadata": {
        "colab": {
          "base_uri": "https://localhost:8080/",
          "height": 458
        },
        "id": "otluCjPjkyqL",
        "outputId": "8e9662b7-ef25-4b54-93e4-781ac556457c"
      },
      "execution_count": null,
      "outputs": [
        {
          "output_type": "execute_result",
          "data": {
            "text/plain": [
              "0       12.0\n",
              "1        6.0\n",
              "2        NaN\n",
              "3       12.0\n",
              "4       14.0\n",
              "        ... \n",
              "1383    12.0\n",
              "1384     NaN\n",
              "1385    18.0\n",
              "1386     NaN\n",
              "1387    16.0\n",
              "Name: fatheduc, Length: 1388, dtype: float64"
            ],
            "text/html": [
              "<div>\n",
              "<style scoped>\n",
              "    .dataframe tbody tr th:only-of-type {\n",
              "        vertical-align: middle;\n",
              "    }\n",
              "\n",
              "    .dataframe tbody tr th {\n",
              "        vertical-align: top;\n",
              "    }\n",
              "\n",
              "    .dataframe thead th {\n",
              "        text-align: right;\n",
              "    }\n",
              "</style>\n",
              "<table border=\"1\" class=\"dataframe\">\n",
              "  <thead>\n",
              "    <tr style=\"text-align: right;\">\n",
              "      <th></th>\n",
              "      <th>fatheduc</th>\n",
              "    </tr>\n",
              "  </thead>\n",
              "  <tbody>\n",
              "    <tr>\n",
              "      <th>0</th>\n",
              "      <td>12.0</td>\n",
              "    </tr>\n",
              "    <tr>\n",
              "      <th>1</th>\n",
              "      <td>6.0</td>\n",
              "    </tr>\n",
              "    <tr>\n",
              "      <th>2</th>\n",
              "      <td>NaN</td>\n",
              "    </tr>\n",
              "    <tr>\n",
              "      <th>3</th>\n",
              "      <td>12.0</td>\n",
              "    </tr>\n",
              "    <tr>\n",
              "      <th>4</th>\n",
              "      <td>14.0</td>\n",
              "    </tr>\n",
              "    <tr>\n",
              "      <th>...</th>\n",
              "      <td>...</td>\n",
              "    </tr>\n",
              "    <tr>\n",
              "      <th>1383</th>\n",
              "      <td>12.0</td>\n",
              "    </tr>\n",
              "    <tr>\n",
              "      <th>1384</th>\n",
              "      <td>NaN</td>\n",
              "    </tr>\n",
              "    <tr>\n",
              "      <th>1385</th>\n",
              "      <td>18.0</td>\n",
              "    </tr>\n",
              "    <tr>\n",
              "      <th>1386</th>\n",
              "      <td>NaN</td>\n",
              "    </tr>\n",
              "    <tr>\n",
              "      <th>1387</th>\n",
              "      <td>16.0</td>\n",
              "    </tr>\n",
              "  </tbody>\n",
              "</table>\n",
              "<p>1388 rows × 1 columns</p>\n",
              "</div><br><label><b>dtype:</b> float64</label>"
            ]
          },
          "metadata": {},
          "execution_count": 62
        }
      ]
    },
    {
      "cell_type": "code",
      "source": [
        "#2º passo tratar os valores faltantes (missing)\n",
        "bwght.fatheduc.dropna()\n"
      ],
      "metadata": {
        "colab": {
          "base_uri": "https://localhost:8080/",
          "height": 458
        },
        "id": "qoCCZcZLl-Fw",
        "outputId": "bf4e8921-0024-49c6-9c02-d611387c110a"
      },
      "execution_count": null,
      "outputs": [
        {
          "output_type": "execute_result",
          "data": {
            "text/plain": [
              "0       12.0\n",
              "1        6.0\n",
              "3       12.0\n",
              "4       14.0\n",
              "5       12.0\n",
              "        ... \n",
              "1381    14.0\n",
              "1382    16.0\n",
              "1383    12.0\n",
              "1385    18.0\n",
              "1387    16.0\n",
              "Name: fatheduc, Length: 1192, dtype: float64"
            ],
            "text/html": [
              "<div>\n",
              "<style scoped>\n",
              "    .dataframe tbody tr th:only-of-type {\n",
              "        vertical-align: middle;\n",
              "    }\n",
              "\n",
              "    .dataframe tbody tr th {\n",
              "        vertical-align: top;\n",
              "    }\n",
              "\n",
              "    .dataframe thead th {\n",
              "        text-align: right;\n",
              "    }\n",
              "</style>\n",
              "<table border=\"1\" class=\"dataframe\">\n",
              "  <thead>\n",
              "    <tr style=\"text-align: right;\">\n",
              "      <th></th>\n",
              "      <th>fatheduc</th>\n",
              "    </tr>\n",
              "  </thead>\n",
              "  <tbody>\n",
              "    <tr>\n",
              "      <th>0</th>\n",
              "      <td>12.0</td>\n",
              "    </tr>\n",
              "    <tr>\n",
              "      <th>1</th>\n",
              "      <td>6.0</td>\n",
              "    </tr>\n",
              "    <tr>\n",
              "      <th>3</th>\n",
              "      <td>12.0</td>\n",
              "    </tr>\n",
              "    <tr>\n",
              "      <th>4</th>\n",
              "      <td>14.0</td>\n",
              "    </tr>\n",
              "    <tr>\n",
              "      <th>5</th>\n",
              "      <td>12.0</td>\n",
              "    </tr>\n",
              "    <tr>\n",
              "      <th>...</th>\n",
              "      <td>...</td>\n",
              "    </tr>\n",
              "    <tr>\n",
              "      <th>1381</th>\n",
              "      <td>14.0</td>\n",
              "    </tr>\n",
              "    <tr>\n",
              "      <th>1382</th>\n",
              "      <td>16.0</td>\n",
              "    </tr>\n",
              "    <tr>\n",
              "      <th>1383</th>\n",
              "      <td>12.0</td>\n",
              "    </tr>\n",
              "    <tr>\n",
              "      <th>1385</th>\n",
              "      <td>18.0</td>\n",
              "    </tr>\n",
              "    <tr>\n",
              "      <th>1387</th>\n",
              "      <td>16.0</td>\n",
              "    </tr>\n",
              "  </tbody>\n",
              "</table>\n",
              "<p>1192 rows × 1 columns</p>\n",
              "</div><br><label><b>dtype:</b> float64</label>"
            ]
          },
          "metadata": {},
          "execution_count": 68
        }
      ]
    },
    {
      "cell_type": "code",
      "source": [
        "#3º agora sim podemos fazer a média\n",
        "round(bwght.fatheduc.describe()) #estatísticas descritivas, algo parecido com o proc means, round(,2) corresponde a 2 casas decimais"
      ],
      "metadata": {
        "colab": {
          "base_uri": "https://localhost:8080/",
          "height": 335
        },
        "id": "h44SmCJNnHYn",
        "outputId": "42ade8a0-251e-49ad-eaf4-4a63e1fdfeec"
      },
      "execution_count": null,
      "outputs": [
        {
          "output_type": "execute_result",
          "data": {
            "text/plain": [
              "count    1192.0\n",
              "mean       13.0\n",
              "std         3.0\n",
              "min         1.0\n",
              "25%        12.0\n",
              "50%        12.0\n",
              "75%        16.0\n",
              "max        18.0\n",
              "Name: fatheduc, dtype: float64"
            ],
            "text/html": [
              "<div>\n",
              "<style scoped>\n",
              "    .dataframe tbody tr th:only-of-type {\n",
              "        vertical-align: middle;\n",
              "    }\n",
              "\n",
              "    .dataframe tbody tr th {\n",
              "        vertical-align: top;\n",
              "    }\n",
              "\n",
              "    .dataframe thead th {\n",
              "        text-align: right;\n",
              "    }\n",
              "</style>\n",
              "<table border=\"1\" class=\"dataframe\">\n",
              "  <thead>\n",
              "    <tr style=\"text-align: right;\">\n",
              "      <th></th>\n",
              "      <th>fatheduc</th>\n",
              "    </tr>\n",
              "  </thead>\n",
              "  <tbody>\n",
              "    <tr>\n",
              "      <th>count</th>\n",
              "      <td>1192.0</td>\n",
              "    </tr>\n",
              "    <tr>\n",
              "      <th>mean</th>\n",
              "      <td>13.0</td>\n",
              "    </tr>\n",
              "    <tr>\n",
              "      <th>std</th>\n",
              "      <td>3.0</td>\n",
              "    </tr>\n",
              "    <tr>\n",
              "      <th>min</th>\n",
              "      <td>1.0</td>\n",
              "    </tr>\n",
              "    <tr>\n",
              "      <th>25%</th>\n",
              "      <td>12.0</td>\n",
              "    </tr>\n",
              "    <tr>\n",
              "      <th>50%</th>\n",
              "      <td>12.0</td>\n",
              "    </tr>\n",
              "    <tr>\n",
              "      <th>75%</th>\n",
              "      <td>16.0</td>\n",
              "    </tr>\n",
              "    <tr>\n",
              "      <th>max</th>\n",
              "      <td>18.0</td>\n",
              "    </tr>\n",
              "  </tbody>\n",
              "</table>\n",
              "</div><br><label><b>dtype:</b> float64</label>"
            ]
          },
          "metadata": {},
          "execution_count": 79
        }
      ]
    },
    {
      "cell_type": "markdown",
      "source": [
        "*R: A média da escolaridade do pai na amostra é de 13 anos. A amostra possui 1192 observações porque haviam valores missing que foram retirados, o que reduziu o número da amostra.*\n",
        "\n"
      ],
      "metadata": {
        "id": "Q5LW8UbXqvpE"
      }
    },
    {
      "cell_type": "markdown",
      "source": [
        "### **( v ) Relate a renda familiar média e seu desvio-padrão em dólares.**"
      ],
      "metadata": {
        "id": "kUE7xxNvp-Ea"
      }
    },
    {
      "cell_type": "code",
      "source": [
        "round(bwght.faminc.describe(),2) #estatísticas descritivas, algo parecido com o proc means"
      ],
      "metadata": {
        "colab": {
          "base_uri": "https://localhost:8080/",
          "height": 335
        },
        "id": "klLIJR8QqBTR",
        "outputId": "730483b2-8ca0-4101-b4fe-745f052adcdb"
      },
      "execution_count": null,
      "outputs": [
        {
          "output_type": "execute_result",
          "data": {
            "text/plain": [
              "count    1388.00\n",
              "mean       29.03\n",
              "std        18.74\n",
              "min         0.50\n",
              "25%        14.50\n",
              "50%        27.50\n",
              "75%        37.50\n",
              "max        65.00\n",
              "Name: faminc, dtype: float64"
            ],
            "text/html": [
              "<div>\n",
              "<style scoped>\n",
              "    .dataframe tbody tr th:only-of-type {\n",
              "        vertical-align: middle;\n",
              "    }\n",
              "\n",
              "    .dataframe tbody tr th {\n",
              "        vertical-align: top;\n",
              "    }\n",
              "\n",
              "    .dataframe thead th {\n",
              "        text-align: right;\n",
              "    }\n",
              "</style>\n",
              "<table border=\"1\" class=\"dataframe\">\n",
              "  <thead>\n",
              "    <tr style=\"text-align: right;\">\n",
              "      <th></th>\n",
              "      <th>faminc</th>\n",
              "    </tr>\n",
              "  </thead>\n",
              "  <tbody>\n",
              "    <tr>\n",
              "      <th>count</th>\n",
              "      <td>1388.00</td>\n",
              "    </tr>\n",
              "    <tr>\n",
              "      <th>mean</th>\n",
              "      <td>29.03</td>\n",
              "    </tr>\n",
              "    <tr>\n",
              "      <th>std</th>\n",
              "      <td>18.74</td>\n",
              "    </tr>\n",
              "    <tr>\n",
              "      <th>min</th>\n",
              "      <td>0.50</td>\n",
              "    </tr>\n",
              "    <tr>\n",
              "      <th>25%</th>\n",
              "      <td>14.50</td>\n",
              "    </tr>\n",
              "    <tr>\n",
              "      <th>50%</th>\n",
              "      <td>27.50</td>\n",
              "    </tr>\n",
              "    <tr>\n",
              "      <th>75%</th>\n",
              "      <td>37.50</td>\n",
              "    </tr>\n",
              "    <tr>\n",
              "      <th>max</th>\n",
              "      <td>65.00</td>\n",
              "    </tr>\n",
              "  </tbody>\n",
              "</table>\n",
              "</div><br><label><b>dtype:</b> float64</label>"
            ]
          },
          "metadata": {},
          "execution_count": 77
        }
      ]
    },
    {
      "cell_type": "markdown",
      "source": [
        "*R: A renda familiar média da amostra é US\\$ 29.03 mil, o desvio-padrão US\\$ 18.74 mil (lembrando que a variável faminc corresponde a renda familiar em milhares de dólares).*"
      ],
      "metadata": {
        "id": "zD0rPq_QqjgJ"
      }
    },
    {
      "cell_type": "markdown",
      "source": [],
      "metadata": {
        "id": "zyuMvJ3hrRoZ"
      }
    }
  ],
  "metadata": {
    "kernelspec": {
      "display_name": "base",
      "language": "python",
      "name": "python3"
    },
    "language_info": {
      "codemirror_mode": {
        "name": "ipython",
        "version": 3
      },
      "file_extension": ".py",
      "mimetype": "text/x-python",
      "name": "python",
      "nbconvert_exporter": "python",
      "pygments_lexer": "ipython3",
      "version": "3.11.7"
    },
    "colab": {
      "provenance": []
    }
  },
  "nbformat": 4,
  "nbformat_minor": 0
}